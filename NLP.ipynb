{
 "cells": [
  {
   "cell_type": "markdown",
   "id": "79624025",
   "metadata": {},
   "source": [
    "## What is NLP ?"
   ]
  },
  {
   "cell_type": "markdown",
   "id": "cef011ca",
   "metadata": {},
   "source": [
    "NLP is a field of linguistics and machine learning focused on understanding everything related to human language.\n",
    "The aim of NLP tasks is not only to understand single words individually, but to be able to understand the context \n",
    "of those words."
   ]
  },
  {
   "cell_type": "markdown",
   "id": "c2018bc8",
   "metadata": {},
   "source": [
    "#### The following is a list of common NLP tasks, with some examples of each:"
   ]
  },
  {
   "cell_type": "markdown",
   "id": "8eb2cbf8",
   "metadata": {},
   "source": [
    "1) Classifying whole sentences \n",
    "2) Classifying each word in a sentence\n",
    "3) Generating text content\n",
    "4) Extracting an answer from a text\n",
    "5) Generating a new sentence from an input text"
   ]
  },
  {
   "cell_type": "markdown",
   "id": "784a01fc",
   "metadata": {},
   "source": [
    "NLP isn’t limited to written text though. It also tackles complex challenges in speech recognition and computer vision, such as generating a transcript of an audio sample or a description of an image."
   ]
  },
  {
   "cell_type": "markdown",
   "id": "d141357f",
   "metadata": {},
   "source": [
    "## Why is it challenging?"
   ]
  },
  {
   "cell_type": "markdown",
   "id": "5cfbaba7",
   "metadata": {},
   "source": [
    "Computers don’t process information in the same way as humans."
   ]
  },
  {
   "cell_type": "markdown",
   "id": "bbb963ae",
   "metadata": {},
   "source": [
    "For example= when we read the sentence “I am hungry,” we can easily understand its meaning. Similarly, given two sentences \n",
    "such as “I am hungry” and “I am sad,” we’re able to easily determine how similar they are. For machine learning (ML) models,\n",
    "such tasks are more difficult. The text needs to be processed in a way that enables the model to learn from it. And because \n",
    "language is complex, we need to think carefully about how this processing must be done. There has been a lot of research \n",
    "done on how to represent text, and we will look at some methods in the next chapter."
   ]
  },
  {
   "cell_type": "markdown",
   "id": "448f6017",
   "metadata": {},
   "source": [
    "## Transformers ,What They can do? "
   ]
  },
  {
   "cell_type": "markdown",
   "id": "3aeadd66",
   "metadata": {},
   "source": [
    "We will look at what Transformer models can do and use our first tool from the 🤗 Transformers library: \n",
    "the pipeline() function.\n",
    "\n",
    "Transformer models are used to solve all kinds of NLP tasks\n",
    "\n",
    "The 🤗 Transformers library provides the functionality to create and use those shared models\n",
    "\n",
    "\n",
    "Working with pipeline = https://youtu.be/tiZFewofSLM\n",
    "\n",
    "The most basic object in the 🤗 Transformers library is the pipeline() function. It connects a model with its necessary preprocessing and postprocessing steps, allowing us to directly input any text and get an intelligible answer:"
   ]
  },
  {
   "cell_type": "markdown",
   "id": "ed4fb7a9",
   "metadata": {},
   "source": [
    "There are three main steps involved when you pass some text to a pipeline:\n",
    "\n",
    "1) The text is preprocessed into a format the model can understand.\n",
    "2) The preprocessed inputs are passed to the model.\n",
    "3) The predictions of the model are post-processed, so you can make sense of them"
   ]
  },
  {
   "cell_type": "markdown",
   "id": "260721d3",
   "metadata": {},
   "source": [
    "Some of the currently available pipelines are:\n",
    "\n",
    "- feature-extraction (get the vector representation of a text)\n",
    "- fill-mask\n",
    "- ner (named entity recognition)\n",
    "- question-answering\n",
    "- sentiment-analysis\n",
    "- summarization\n",
    "- text-generation\n",
    "- translation\n",
    "- zero-shot-classification"
   ]
  },
  {
   "cell_type": "markdown",
   "id": "071af05f",
   "metadata": {},
   "source": [
    "before runing install= !pip install datasets evaluate transformers[sentencepiece]\n",
    "\n",
    "link to playground = https://colab.research.google.com/github/huggingface/notebooks/blob/master/course/en/chapter1/section3.ipynb#scrollTo=LlhMIKjYZVh2"
   ]
  },
  {
   "cell_type": "markdown",
   "id": "336dbd69",
   "metadata": {},
   "source": [
    "### sentiment-analysis"
   ]
  },
  {
   "cell_type": "markdown",
   "id": "b1daed7e",
   "metadata": {},
   "source": [
    " sentiment-analysis = where it define the given sentnce is postive or negative "
   ]
  },
  {
   "cell_type": "code",
   "execution_count": null,
   "id": "1c3862c7",
   "metadata": {},
   "outputs": [],
   "source": [
    "from transformers import pipeline\n",
    "\n",
    "classifier = pipeline(\"sentiment-analysis\")\n",
    "classifier(\"I've been waiting for a HuggingFace course my whole life.\")\n",
    "\n",
    "\n",
    "\"\"\"[{'label': 'POSITIVE', 'score': 0.9598047137260437}]\"\"\"\n",
    "\n",
    "#this for multiple input\n",
    "\"\"\"classifier(\n",
    "    [\"I've been waiting for a HuggingFace course my whole life.\", \"I hate this so much!\"]\n",
    ")\"\"\"\n"
   ]
  },
  {
   "cell_type": "markdown",
   "id": "af164552",
   "metadata": {},
   "source": [
    "### Zero-shot classification"
   ]
  },
  {
   "cell_type": "markdown",
   "id": "878e8622",
   "metadata": {},
   "source": [
    "We’ll start by tackling a more challenging task where we need to classify texts that haven’t been labelled. This is a common scenario in real-world projects because annotating text is usually time-consuming and requires domain expertise. For this use case, the zero-shot-classification pipeline is very powerful: it allows you to specify which labels to use for the classification, so you don’t have to rely on the labels of the pretrained model. You’ve already seen how the model can classify a sentence as positive or negative using those two labels — but it can also classify the text using any other set of labels you like.\n",
    "\n",
    "\n",
    "\n",
    "means the zero-shot classfication is use for labels the sentence, you can  using other set of lables you want , using excpet positive or negative lables \n",
    "\n",
    "This pipeline is called zero-shot because you don’t need to fine-tune the model on your data to use it. It can directly return probability scores for any list of labels you want!"
   ]
  },
  {
   "cell_type": "code",
   "execution_count": null,
   "id": "5215ea44",
   "metadata": {},
   "outputs": [],
   "source": [
    "from transformers import pipeline\n",
    "\n",
    "classifier = pipeline(\"zero-shot-classification\")\n",
    "classifier(\n",
    "    \"This is a course about the Transformers library\",\n",
    "    candidate_labels=[\"education\", \"politics\", \"business\"],\n",
    ")\n",
    "\n",
    "\n",
    "\n",
    "\"\"\"{'sequence': 'This is a course about the Transformers library',\n",
    " 'labels': ['education', 'business', 'politics'],\n",
    " 'scores': [0.8445963859558105, 0.111976258456707, 0.043427448719739914]}\"\"\""
   ]
  },
  {
   "cell_type": "markdown",
   "id": "7e22468e",
   "metadata": {},
   "source": [
    "### Text generation "
   ]
  },
  {
   "cell_type": "markdown",
   "id": "0759137f",
   "metadata": {},
   "source": [
    "Now let’s see how to use a pipeline to generate some text. The main idea here is that you provide a prompt and the model will auto-complete it by generating the remaining text. This is similar to the predictive text feature that is found on many phones. Text generation involves randomness, so it’s normal if you don’t get the same results as shown below.\n",
    "\n",
    "means genrating the text form given input , or completing the sentnce "
   ]
  },
  {
   "cell_type": "code",
   "execution_count": null,
   "id": "187331d0",
   "metadata": {},
   "outputs": [],
   "source": [
    "from transformers import pipeline\n",
    "\n",
    "generator = pipeline(\"text-generation\")\n",
    "generator(\"In this course, we will teach you how to\")\n",
    "\n",
    "\n",
    "\"\"\"[{'generated_text': 'In this course, we will teach you how to understand and use '\n",
    "                    'data flow and data interchange when handling user data. We '\n",
    "                    'will be working with one or more of the most commonly used '\n",
    "                    'data flows — data flows of various types, as seen by the '\n",
    "                    'HTTP'}]\"\"\""
   ]
  },
  {
   "cell_type": "markdown",
   "id": "d197de16",
   "metadata": {},
   "source": [
    "You can control how many different sequences are generated with the argument num_return_sequences and the total length of the output text with the argument max_length.\n",
    "\n",
    "\n",
    "Using any model from the Hub in a pipeline\n",
    "\n",
    "\n",
    "The previous examples used the default model for the task at hand, but you can also choose a particular model from the Hub to use in a pipeline for a specific task — say, text generation. Go to the Model Hub and click on the corresponding tag on the left to display only the supported models for that task. You should get to a page like this one.\n",
    "\n",
    "Let’s try the distilgpt2 model! Here’s how to load it in the same pipeline as before:\n",
    "\n",
    "the given below code show you can give the size that how many text need to genrate"
   ]
  },
  {
   "cell_type": "code",
   "execution_count": null,
   "id": "33e61a9e",
   "metadata": {},
   "outputs": [],
   "source": [
    "from transformers import pipeline\n",
    "\n",
    "generator = pipeline(\"text-generation\", model=\"distilgpt2\")\n",
    "generator(\n",
    "    \"In this course, we will teach you how to\",\n",
    "    max_length=30,\n",
    "    num_return_sequences=2,\n",
    ")\n",
    "\n",
    "\"\"\"[{'generated_text': 'In this course, we will teach you how to manipulate the world and '\n",
    "                    'move your mental and physical capabilities to your advantage.'},\n",
    " {'generated_text': 'In this course, we will teach you how to become an expert and '\n",
    "                    'practice realtime, and with a hands on experience on both real '\n",
    "                    'time and real'}]\"\"\""
   ]
  },
  {
   "cell_type": "markdown",
   "id": "7c251261",
   "metadata": {},
   "source": [
    "NOTE : You can refine your search for a model by clicking on the language tags, and pick a model that will generate text in another language. The Model Hub even contains checkpoints for multilingual models that support several languages.\n",
    "\n",
    "Once you select a model by clicking on it, you’ll see that there is a widget enabling you to try it directly online. This way you can quickly test the model’s capabilities before downloading it"
   ]
  },
  {
   "cell_type": "markdown",
   "id": "af0bc29a",
   "metadata": {},
   "source": [
    "### Mask filling"
   ]
  },
  {
   "cell_type": "markdown",
   "id": "444b9f71",
   "metadata": {},
   "source": [
    "The next pipeline you’ll try is fill-mask. The idea of this task is to fill in the blanks in a given text:\n",
    "\n",
    "\n",
    "The top_k argument controls how many possibilities you want to be displayed. Note that here the model fills in the special <mask> word, which is often referred to as a mask token. Other mask-filling models might have different mask tokens, so it’s always good to verify the proper mask word when exploring other models. One way to check it is by looking at the mask word used in the widget.\n",
    "    \n",
    "    \n",
    "means simpley filling the blank!"
   ]
  },
  {
   "cell_type": "code",
   "execution_count": null,
   "id": "5e42f732",
   "metadata": {},
   "outputs": [],
   "source": [
    "from transformers import pipeline\n",
    "\n",
    "unmasker = pipeline(\"fill-mask\")\n",
    "unmasker(\"This course will teach you all about <mask> models.\", top_k=2)\n",
    "\n",
    "\"\"\"[{'sequence': 'This course will teach you all about mathematical models.',\n",
    "  'score': 0.19619831442832947,\n",
    "  'token': 30412,\n",
    "  'token_str': ' mathematical'},\n",
    " {'sequence': 'This course will teach you all about computational models.',\n",
    "  'score': 0.04052725434303284,\n",
    "  'token': 38163,\n",
    "  'token_str': ' computational'}]\"\"\""
   ]
  },
  {
   "cell_type": "markdown",
   "id": "768c0241",
   "metadata": {},
   "source": [
    "### Named entity recognition "
   ]
  },
  {
   "cell_type": "markdown",
   "id": "01d4e18d",
   "metadata": {},
   "source": [
    "Named entity recognition (NER) is a task where the model has to find which parts of the input text correspond to entities such as persons, locations, or organizations. Let’s look at an example:\n",
    "\n",
    "it use to find information about text"
   ]
  },
  {
   "cell_type": "code",
   "execution_count": null,
   "id": "5b01e8b5",
   "metadata": {},
   "outputs": [],
   "source": [
    "from transformers import pipeline\n",
    "\n",
    "ner = pipeline(\"ner\", grouped_entities=True)\n",
    "ner(\"My name is Sylvain and I work at Hugging Face in Brooklyn.\")\n",
    "\n",
    "\"\"\"[{'entity_group': 'PER', 'score': 0.99816, 'word': 'Sylvain', 'start': 11, 'end': 18}, \n",
    " {'entity_group': 'ORG', 'score': 0.97960, 'word': 'Hugging Face', 'start': 33, 'end': 45}, \n",
    " {'entity_group': 'LOC', 'score': 0.99321, 'word': 'Brooklyn', 'start': 49, 'end': 57}\n",
    "]\"\"\""
   ]
  },
  {
   "cell_type": "markdown",
   "id": "76554c16",
   "metadata": {},
   "source": [
    "NOTE: the person, location ,organzation name should start with capital letter\n",
    "\n",
    "Here the model correctly identified that Sylvain is a person (PER), Hugging Face an organization (ORG), and Brooklyn a location (LOC).\n",
    "\n",
    "We pass the option grouped_entities=True in the pipeline creation function to tell the pipeline to regroup together the parts of the sentence that correspond to the same entity: here the model correctly grouped “Hugging” and “Face” as a single organization, even though the name consists of multiple words. In fact, as we will see in the next chapter, the preprocessing even splits some words into smaller parts. For instance, Sylvain is split into four pieces: S, ##yl, ##va, and ##in. In the post-processing step, the pipeline successfully regrouped those pieces."
   ]
  },
  {
   "cell_type": "markdown",
   "id": "8797265a",
   "metadata": {},
   "source": [
    "### Question answering "
   ]
  },
  {
   "cell_type": "markdown",
   "id": "3570ec37",
   "metadata": {},
   "source": [
    "The question-answering pipeline answers questions using information from a given context:\n",
    "    \n",
    "Note: that this pipeline works by extracting information from the provided context; it does not generate the answer.\n",
    "\n",
    "means it use for question and answering"
   ]
  },
  {
   "cell_type": "code",
   "execution_count": null,
   "id": "b88f5e17",
   "metadata": {},
   "outputs": [],
   "source": [
    "from transformers import pipeline\n",
    "\n",
    "question_answerer = pipeline(\"question-answering\")\n",
    "question_answerer(\n",
    "    question=\"Where do I work?\",\n",
    "    context=\"My name is Sylvain and I work at Hugging Face in Brooklyn\",\n",
    ")\n",
    "\n",
    "\"\"\"{'score': 0.6385916471481323, 'start': 33, 'end': 45, 'answer': 'Hugging Face'}\"\"\""
   ]
  },
  {
   "cell_type": "markdown",
   "id": "4cda3a6f",
   "metadata": {},
   "source": [
    "### Summarization "
   ]
  },
  {
   "cell_type": "markdown",
   "id": "3312d1c6",
   "metadata": {},
   "source": [
    "Summarization is the task of reducing a text into a shorter text while keeping all (or most) of the important aspects referenced in the text. Here’s an example:\n",
    "\n",
    "Like with text generation, you can specify a max_length or a min_length for the result.\n",
    "\n",
    "it use for summarization "
   ]
  },
  {
   "cell_type": "code",
   "execution_count": null,
   "id": "f4ace589",
   "metadata": {},
   "outputs": [],
   "source": [
    "from transformers import pipeline\n",
    "\n",
    "summarizer = pipeline(\"summarization\")\n",
    "summarizer(\n",
    "    \"\"\"\n",
    "    America has changed dramatically during recent years. Not only has the number of \n",
    "    graduates in traditional engineering disciplines such as mechanical, civil, \n",
    "    electrical, chemical, and aeronautical engineering declined, but in most of \n",
    "    the premier American universities engineering curricula now concentrate on \n",
    "    and encourage largely the study of engineering science. As a result, there \n",
    "    are declining offerings in engineering subjects dealing with infrastructure, \n",
    "    the environment, and related issues, and greater concentration on high \n",
    "    technology subjects, largely supporting increasingly complex scientific \n",
    "    developments. While the latter is important, it should not be at the expense \n",
    "    of more traditional engineering.\n",
    "\n",
    "    Rapidly developing economies such as China and India, as well as other \n",
    "    industrial countries in Europe and Asia, continue to encourage and advance \n",
    "    the teaching of engineering. Both China and India, respectively, graduate \n",
    "    six and eight times as many traditional engineers as does the United States. \n",
    "    Other industrial countries at minimum maintain their output, while America \n",
    "    suffers an increasingly serious decline in the number of engineering graduates \n",
    "    and a lack of well-educated engineers.\n",
    "\"\"\"\n",
    ")\n",
    "\n",
    "\"\"\"[{'summary_text': ' America has changed dramatically during recent years . The '\n",
    "                  'number of engineering graduates in the U.S. has declined in '\n",
    "                  'traditional engineering disciplines such as mechanical, civil '\n",
    "                  ', electrical, chemical, and aeronautical engineering . Rapidly '\n",
    "                  'developing economies such as China and India, as well as other '\n",
    "                  'industrial countries in Europe and Asia, continue to encourage '\n",
    "                  'and advance engineering .'}]\"\"\""
   ]
  },
  {
   "cell_type": "markdown",
   "id": "4f987c93",
   "metadata": {},
   "source": [
    "### Translation "
   ]
  },
  {
   "cell_type": "markdown",
   "id": "5aa1c7bf",
   "metadata": {},
   "source": [
    "For translation, you can use a default model if you provide a language pair in the task name (such as \"translation_en_to_fr\"), but the easiest way is to pick the model you want to use on the Model Hub. Here we’ll try translating from French to English:\n",
    "\n",
    "it use for translation\n",
    "\n",
    "Like with text generation and summarization, you can specify a max_length or a min_length for the result."
   ]
  },
  {
   "cell_type": "code",
   "execution_count": null,
   "id": "abf3f6bb",
   "metadata": {},
   "outputs": [],
   "source": [
    "from transformers import pipeline\n",
    "\n",
    "translator = pipeline(\"translation\", model=\"Helsinki-NLP/opus-mt-fr-en\")\n",
    "translator(\"Ce cours est produit par Hugging Face.\")\n",
    "\n",
    "\"\"\"[{'translation_text': 'This course is produced by Hugging Face.'}]\"\"\""
   ]
  },
  {
   "cell_type": "code",
   "execution_count": null,
   "id": "64996282",
   "metadata": {},
   "outputs": [],
   "source": []
  }
 ],
 "metadata": {
  "kernelspec": {
   "display_name": "Python 3 (ipykernel)",
   "language": "python",
   "name": "python3"
  },
  "language_info": {
   "codemirror_mode": {
    "name": "ipython",
    "version": 3
   },
   "file_extension": ".py",
   "mimetype": "text/x-python",
   "name": "python",
   "nbconvert_exporter": "python",
   "pygments_lexer": "ipython3",
   "version": "3.11.0"
  }
 },
 "nbformat": 4,
 "nbformat_minor": 5
}
